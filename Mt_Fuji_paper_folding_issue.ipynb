{
  "nbformat": 4,
  "nbformat_minor": 0,
  "metadata": {
    "colab": {
      "provenance": [],
      "authorship_tag": "ABX9TyPFmdcFqNtr2jcHTdbnNojV",
      "include_colab_link": true
    },
    "kernelspec": {
      "name": "python3",
      "display_name": "Python 3"
    },
    "language_info": {
      "name": "python"
    }
  },
  "cells": [
    {
      "cell_type": "markdown",
      "metadata": {
        "id": "view-in-github",
        "colab_type": "text"
      },
      "source": [
        "<a href=\"https://colab.research.google.com/github/yhamidah/AI-Assignments/blob/main/Mt_Fuji_paper_folding_issue.ipynb\" target=\"_parent\"><img src=\"https://colab.research.google.com/assets/colab-badge.svg\" alt=\"Open In Colab\"/></a>"
      ]
    },
    {
      "cell_type": "markdown",
      "source": [
        "Problem 1"
      ],
      "metadata": {
        "id": "s8tq5V8QLkeQ"
      }
    },
    {
      "cell_type": "code",
      "source": [
        "THICKNESS = 0.00008\n",
        "MT_FUJI = 3776\n",
        "fold_times = 1\n",
        "current_thickness = 0\n",
        "while (current_thickness < MT_FUJI):\n",
        "  current_thickness = THICKNESS*(2**fold_times)\n",
        "  fold_times+=1\n",
        "print(\"exceeded mt fuji on the {}th fold\".format(fold_times))"
      ],
      "metadata": {
        "colab": {
          "base_uri": "https://localhost:8080/"
        },
        "id": "_FvtXEIPLmNW",
        "outputId": "61818f38-34b1-4d03-894b-de1023dfc061"
      },
      "execution_count": 4,
      "outputs": [
        {
          "output_type": "stream",
          "name": "stdout",
          "text": [
            "exceeded mt fuji on the 27th fold\n"
          ]
        }
      ]
    },
    {
      "cell_type": "markdown",
      "source": [
        "Problem 2"
      ],
      "metadata": {
        "id": "vsE3G55aMvRT"
      }
    },
    {
      "cell_type": "code",
      "source": [
        "CLOSEST_NON_SUN_STAR = 4.4\n",
        "LIGHT_YEAR = 9.5\n",
        "DISTANCE = (9.5 * 4.4)*1000000000000\n",
        "\n",
        "def calculate_fold_from_distance(distance):\n",
        "  problem2_fold_times = 1\n",
        "  problem2_current_thickness = 0\n",
        "\n",
        "  while ((problem2_current_thickness//1000) < distance):\n",
        "    problem2_current_thickness = THICKNESS*(2**problem2_fold_times)\n",
        "    problem2_fold_times+=1\n",
        "  print()\n",
        "\n",
        "  return problem2_fold_times\n",
        "\n",
        "print(\"reached the closest non star on the {}th fold\".format(calculate_fold_from_distance(DISTANCE)))"
      ],
      "metadata": {
        "id": "LBW_2BLYMxLR",
        "colab": {
          "base_uri": "https://localhost:8080/"
        },
        "outputId": "3d482444-3155-438c-8da7-fe51b887dd2e"
      },
      "execution_count": 10,
      "outputs": [
        {
          "output_type": "stream",
          "name": "stdout",
          "text": [
            "\n",
            "reached the closest non star on the 70th fold\n"
          ]
        }
      ]
    },
    {
      "cell_type": "markdown",
      "source": [
        "PROBLEM 3"
      ],
      "metadata": {
        "id": "_DcGIy_NOr46"
      }
    },
    {
      "cell_type": "code",
      "source": [
        "def calculate_length_of_paper_from_folds(folds):\n",
        "  PROBLEMS_THICKNESS = 0.0008\n",
        "  length = (PROBLEMS_THICKNESS/6)*((2**folds)+4)*(2**folds -1)\n",
        "  return length\n",
        "\n",
        "DISTANCE_TO_THE_MOON = 384400*1000\n",
        "\n",
        "\n",
        "print(\"the length of paper needed to be folded to reach the moon is {}m\".format(calculate_length_of_paper_from_folds(calculate_fold_from_distance(DISTANCE_TO_THE_MOON))))\n",
        "print(\"the length of paper needed to be folded to reach the mt fuji is {}m\".format(calculate_length_of_paper_from_folds(calculate_fold_from_distance(MT_FUJI))))\n",
        "print(\"the length of paper needed to be folded to reach the non star sun is {}m\".format(calculate_length_of_paper_from_folds(calculate_fold_from_distance(DISTANCE))))"
      ],
      "metadata": {
        "colab": {
          "base_uri": "https://localhost:8080/"
        },
        "id": "ApOeJ-yuOu_s",
        "outputId": "3be11df1-b839-4343-f6c9-a66c2f25eb1e"
      },
      "execution_count": 14,
      "outputs": [
        {
          "output_type": "stream",
          "name": "stdout",
          "text": [
            "\n",
            "the length of paper needed to be folded to reach the moon is 4.326914048779024e+28m\n",
            "\n",
            "the length of paper needed to be folded to reach the mt fuji is 2.5185954575854536e+18m\n",
            "\n",
            "the length of paper needed to be folded to reach the non star sun is 1.8583954332108854e+38m\n"
          ]
        }
      ]
    },
    {
      "cell_type": "code",
      "source": [],
      "metadata": {
        "id": "mq1phm7PQwL4"
      },
      "execution_count": null,
      "outputs": []
    }
  ]
}