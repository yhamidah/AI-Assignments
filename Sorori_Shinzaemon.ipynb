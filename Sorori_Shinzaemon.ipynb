{
  "nbformat": 4,
  "nbformat_minor": 0,
  "metadata": {
    "colab": {
      "provenance": [],
      "authorship_tag": "ABX9TyNzYhfOh1jfOXMI5O/ao9N0",
      "include_colab_link": true
    },
    "kernelspec": {
      "name": "python3",
      "display_name": "Python 3"
    },
    "language_info": {
      "name": "python"
    }
  },
  "cells": [
    {
      "cell_type": "markdown",
      "metadata": {
        "id": "view-in-github",
        "colab_type": "text"
      },
      "source": [
        "<a href=\"https://colab.research.google.com/github/yhamidah/AI-Assignments/blob/main/Sorori_Shinzaemon.ipynb\" target=\"_parent\"><img src=\"https://colab.research.google.com/assets/colab-badge.svg\" alt=\"Open In Colab\"/></a>"
      ]
    },
    {
      "cell_type": "markdown",
      "source": [
        "Problem 1"
      ],
      "metadata": {
        "id": "2Sju4XfCFBhI"
      }
    },
    {
      "cell_type": "code",
      "source": [
        "grain = 1\n",
        "grain_per_day = []\n",
        "for day in range(100):\n",
        "  if day == 0:\n",
        "    grain_per_day.append(grain)\n",
        "  else:\n",
        "    grain_per_day.append((grain*2)**day)"
      ],
      "metadata": {
        "id": "AGK7NcOaFDWm"
      },
      "execution_count": 2,
      "outputs": []
    },
    {
      "cell_type": "code",
      "source": [
        "print(\"the total rice grains after 100 days: \", sum(grain_per_day))"
      ],
      "metadata": {
        "id": "YYVq6VYSFzz3"
      },
      "execution_count": null,
      "outputs": []
    },
    {
      "cell_type": "code",
      "source": [
        "import matplotlib.pyplot as plt\n",
        "%matplotlib inline\n",
        "plt.title(\"Grains per day\")\n",
        "plt.xlabel(\"days\")\n",
        "plt.ylabel(\"grains\")\n",
        "plt.plot(grain_per_day)  # Enter the variable name of the list in \"List name\"\n",
        "plt.show()\n",
        "\n"
      ],
      "metadata": {
        "colab": {
          "base_uri": "https://localhost:8080/",
          "height": 472
        },
        "id": "Uhd6jtDuGBnT",
        "outputId": "274245c2-f14f-496d-d0eb-7855af165669"
      },
      "execution_count": 4,
      "outputs": [
        {
          "output_type": "display_data",
          "data": {
            "text/plain": [
              "<Figure size 640x480 with 1 Axes>"
            ],
            "image/png": "[encoded data removed]"
          },
          "metadata": {}
        }
      ]
    },
    {
      "cell_type": "markdown",
      "source": [
        "Problem 2"
      ],
      "metadata": {
        "id": "7UZJlR-6GwYt"
      }
    },
    {
      "cell_type": "code",
      "source": [
        "def compute_grains_per_days(days=100):\n",
        "   grain = 1\n",
        "   grain_per_day = []\n",
        "   for day in range(days):\n",
        "     if day == 0:\n",
        "       grain_per_day.append(grain)\n",
        "     else:\n",
        "       grain_per_day.append((grain*2)**day)\n",
        "   print(\"the total rice grains after: \", sum(grain_per_day))\n"
      ],
      "metadata": {
        "id": "_kZj2j6cGxyt"
      },
      "execution_count": 9,
      "outputs": []
    },
    {
      "cell_type": "code",
      "source": [
        "compute_grains_per_days(80)"
      ],
      "metadata": {
        "colab": {
          "base_uri": "https://localhost:8080/"
        },
        "id": "JDXqnZ0WH8-B",
        "outputId": "fa3509b1-c78e-4a38-d70b-fc80609b3ce5"
      },
      "execution_count": 10,
      "outputs": [
        {
          "output_type": "stream",
          "name": "stdout",
          "text": [
            "the total rice grains after:  1208925819614629174706175\n"
          ]
        }
      ]
    },
    {
      "cell_type": "markdown",
      "source": [
        "Problem 3"
      ],
      "metadata": {
        "id": "elSBbAnEIoIT"
      }
    },
    {
      "cell_type": "code",
      "source": [
        "grains_in_bowl = 20000\n",
        "grains_per_day = grains_in_bowl*2\n",
        "\n",
        "def compute_how_many_days(people, grains):\n",
        "   total_grains_day = people*grains_per_day\n",
        "   days = grains/total_grains_day\n",
        "   print(\"how many days\",days)\n",
        "\n",
        "compute_how_many_days(3,10000000000000)"
      ],
      "metadata": {
        "colab": {
          "base_uri": "https://localhost:8080/"
        },
        "id": "3LDhQIqQIqMe",
        "outputId": "3804ecd3-4cd9-4b9b-e252-9237514e5bee"
      },
      "execution_count": 14,
      "outputs": [
        {
          "output_type": "stream",
          "name": "stdout",
          "text": [
            "how many days 83333333.33333333\n"
          ]
        }
      ]
    }
  ]
}