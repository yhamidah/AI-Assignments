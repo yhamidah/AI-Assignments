{
  "nbformat": 4,
  "nbformat_minor": 0,
  "metadata": {
    "colab": {
      "provenance": [],
      "authorship_tag": "ABX9TyNBfUbBiCjD+/DTiz4RGauA",
      "include_colab_link": true
    },
    "kernelspec": {
      "name": "python3",
      "display_name": "Python 3"
    },
    "language_info": {
      "name": "python"
    }
  },
  "cells": [
    {
      "cell_type": "markdown",
      "metadata": {
        "id": "view-in-github",
        "colab_type": "text"
      },
      "source": [
        "<a href=\"https://colab.research.google.com/github/yhamidah/AI-Assignments/blob/main/_Wheat_and_chessboard.ipynb\" target=\"_parent\"><img src=\"https://colab.research.google.com/assets/colab-badge.svg\" alt=\"Open In Colab\"/></a>"
      ]
    },
    {
      "cell_type": "code",
      "source": [
        "\n",
        "n_squares = 4\n",
        "small_board_list = [1]\n",
        "for _ in range(n_squares - 1):\n",
        "    small_board_list.append(2*small_board_list[-1])\n",
        "print(\"Arrange wheat on a plate of 4 squares (list)：{}\".format(small_board_list))"
      ],
      "metadata": {
        "colab": {
          "base_uri": "https://localhost:8080/"
        },
        "id": "yCgdkcDE_LKU",
        "outputId": "aecaf15d-d298-4bcb-ec2a-a5499e04e0e3"
      },
      "execution_count": 1,
      "outputs": [
        {
          "output_type": "stream",
          "name": "stdout",
          "text": [
            "Arrange wheat on a plate of 4 squares (list)：[1, 2, 4, 8]\n"
          ]
        }
      ]
    },
    {
      "cell_type": "code",
      "source": [
        "import numpy as np\n",
        "\n",
        "small_board_ndarray = np.array(small_board_list)\n",
        "print(\"Arrange wheat on a plate of 4 squares (ndarray)：{}\".format(small_board_ndarray))"
      ],
      "metadata": {
        "colab": {
          "base_uri": "https://localhost:8080/"
        },
        "id": "8V_YMIKE_9u6",
        "outputId": "7544e78b-3a51-444f-f61f-941e963d694b"
      },
      "execution_count": 2,
      "outputs": [
        {
          "output_type": "stream",
          "name": "stdout",
          "text": [
            "Arrange wheat on a plate of 4 squares (ndarray)：[1 2 4 8]\n"
          ]
        }
      ]
    },
    {
      "cell_type": "markdown",
      "source": [
        "###[Problem 1] Number of wheat on a 2 x 2 square chess board"
      ],
      "metadata": {
        "id": "O-dt3eqmAFK1"
      }
    },
    {
      "cell_type": "code",
      "source": [
        "n_squares = 4\n",
        "small_board_list = [1]\n",
        "for _ in range(n_squares - 1):\n",
        "    small_board_list.append(2*small_board_list[-1])\n",
        "\n",
        "small_board_ndarray = np.array(small_board_list).reshape(2,2)\n",
        "print(\"The number of wheat on a 2/2 squares (ndarray): {}\".format(small_board_ndarray))"
      ],
      "metadata": {
        "colab": {
          "base_uri": "https://localhost:8080/"
        },
        "id": "rFMoapWPAI7E",
        "outputId": "8248fee3-22f9-4676-b627-14bbc97de7b7"
      },
      "execution_count": 4,
      "outputs": [
        {
          "output_type": "stream",
          "name": "stdout",
          "text": [
            "The number of wheat on a 2/2 squares (ndarray): [[1 2]\n",
            " [4 8]]\n"
          ]
        }
      ]
    },
    {
      "cell_type": "markdown",
      "source": [
        "###[Problem 2] Expansion to n × m mass"
      ],
      "metadata": {
        "id": "NixHXwQzA5VC"
      }
    },
    {
      "cell_type": "code",
      "source": [
        "def num_of_wheat(n,m):\n",
        "    chess_square = n * m\n",
        "    indices = np.arange(chess_square)\n",
        "    chessBoardlist = 2 ** indices\n",
        "    return chessBoardlist.reshape(n,m).astype(np.uint64)\n",
        "\n",
        "print(\"Number of wheat on an 8x8 chessboard is : \")\n",
        "print(num_of_wheat(8,8))\n",
        "\n"
      ],
      "metadata": {
        "colab": {
          "base_uri": "https://localhost:8080/"
        },
        "id": "kiKt6DAzA8lr",
        "outputId": "141ee66d-c7c8-4455-ea21-97f1b103b39d"
      },
      "execution_count": 7,
      "outputs": [
        {
          "output_type": "stream",
          "name": "stdout",
          "text": [
            "Number of wheat on an 8x8 chessboard is : \n",
            "[[                  1                   2                   4\n",
            "                    8                  16                  32\n",
            "                   64                 128]\n",
            " [                256                 512                1024\n",
            "                 2048                4096                8192\n",
            "                16384               32768]\n",
            " [              65536              131072              262144\n",
            "               524288             1048576             2097152\n",
            "              4194304             8388608]\n",
            " [           16777216            33554432            67108864\n",
            "            134217728           268435456           536870912\n",
            "           1073741824          2147483648]\n",
            " [         4294967296          8589934592         17179869184\n",
            "          34359738368         68719476736        137438953472\n",
            "         274877906944        549755813888]\n",
            " [      1099511627776       2199023255552       4398046511104\n",
            "        8796093022208      17592186044416      35184372088832\n",
            "       70368744177664     140737488355328]\n",
            " [    281474976710656     562949953421312    1125899906842624\n",
            "     2251799813685248    4503599627370496    9007199254740992\n",
            "    18014398509481984   36028797018963968]\n",
            " [  72057594037927936  144115188075855872  288230376151711744\n",
            "   576460752303423488 1152921504606846976 2305843009213693952\n",
            "  4611686018427387904 9223372036854775808]]\n"
          ]
        }
      ]
    },
    {
      "cell_type": "markdown",
      "source": [
        "###[Problem 3] Total number of wheat"
      ],
      "metadata": {
        "id": "Xov1XSKKCdeN"
      }
    },
    {
      "cell_type": "code",
      "source": [
        "chessboard_ndarray = num_of_wheat(8, 8)\n",
        "total_wheat = chessboard_ndarray.sum()\n",
        "print(\"The total number of wheat: \", total_wheat)\n",
        "\n"
      ],
      "metadata": {
        "id": "FeUJ5LVwCnaS"
      },
      "execution_count": null,
      "outputs": []
    },
    {
      "cell_type": "markdown",
      "source": [
        "###The average of each column on a 8x8 chess board"
      ],
      "metadata": {
        "id": "5kXXDfcGDa3s"
      }
    },
    {
      "cell_type": "code",
      "source": [
        "average_wheat = num_of_wheat(8,8).mean(axis=0)\n",
        "print(average_wheat)"
      ],
      "metadata": {
        "colab": {
          "base_uri": "https://localhost:8080/"
        },
        "id": "U82BY00LDiDO",
        "outputId": "69926f8e-07ce-4492-c982-5702edfa589a"
      },
      "execution_count": 8,
      "outputs": [
        {
          "output_type": "stream",
          "name": "stdout",
          "text": [
            "[9.04252160e+15 1.80850432e+16 3.61700864e+16 7.23401728e+16\n",
            " 1.44680346e+17 2.89360691e+17 5.78721383e+17 1.15744277e+18]\n"
          ]
        }
      ]
    },
    {
      "cell_type": "code",
      "source": [
        "import matplotlib.pyplot as plt\n",
        "%matplotlib inline\n",
        "plt.xlabel(\"column\")\n",
        "plt.ylabel(\"number\")\n",
        "plt.title(\"number in each column\")\n",
        "plt.bar(np.arange(1,9), average_wheat)\n",
        "plt.show()\n"
      ],
      "metadata": {
        "colab": {
          "base_uri": "https://localhost:8080/",
          "height": 472
        },
        "id": "UWb2OF2xISuH",
        "outputId": "fafbcae2-032b-46e7-fa92-43af9ba17d13"
      },
      "execution_count": 10,
      "outputs": [
        {
          "output_type": "display_data",
          "data": {
            "text/plain": [
              "<Figure size 640x480 with 1 Axes>"
            ],
            "image/png": "[encoded data removed]"
          },
          "metadata": {}
        }
      ]
    },
    {
      "cell_type": "markdown",
      "source": [
        "###[Problem 4] Heat map of the number of wheat"
      ],
      "metadata": {
        "id": "kzKJMRJBKcs_"
      }
    },
    {
      "cell_type": "code",
      "source": [
        "n_squares = 64\n",
        "small_board_list = [1]\n",
        "for _ in range(n_squares - 1):\n",
        "    small_board_list.append(2*small_board_list[-1])\n",
        "print(small_board_list)\n"
      ],
      "metadata": {
        "colab": {
          "base_uri": "https://localhost:8080/"
        },
        "id": "_W-u5yOIKgYN",
        "outputId": "44603006-f71b-43de-d384-4ea897c19602"
      },
      "execution_count": 12,
      "outputs": [
        {
          "output_type": "stream",
          "name": "stdout",
          "text": [
            "[1, 2, 4, 8, 16, 32, 64, 128, 256, 512, 1024, 2048, 4096, 8192, 16384, 32768, 65536, 131072, 262144, 524288, 1048576, 2097152, 4194304, 8388608, 16777216, 33554432, 67108864, 134217728, 268435456, 536870912, 1073741824, 2147483648, 4294967296, 8589934592, 17179869184, 34359738368, 68719476736, 137438953472, 274877906944, 549755813888, 1099511627776, 2199023255552, 4398046511104, 8796093022208, 17592186044416, 35184372088832, 70368744177664, 140737488355328, 281474976710656, 562949953421312, 1125899906842624, 2251799813685248, 4503599627370496, 9007199254740992, 18014398509481984, 36028797018963968, 72057594037927936, 144115188075855872, 288230376151711744, 576460752303423488, 1152921504606846976, 2305843009213693952, 4611686018427387904, 9223372036854775808]\n"
          ]
        }
      ]
    },
    {
      "cell_type": "code",
      "source": [
        "plt.xlabel(\"column\")\n",
        "plt.ylabel(\"row\")\n",
        "plt.title(\"heatmap\")\n",
        "plt.pcolor (np.array(small_board_list).reshape(8,8))\n",
        "plt.show()"
      ],
      "metadata": {
        "colab": {
          "base_uri": "https://localhost:8080/",
          "height": 472
        },
        "id": "Z8RVUZtQL0i4",
        "outputId": "dd7e9993-77bb-48e8-a869-1999d279fb63"
      },
      "execution_count": 14,
      "outputs": [
        {
          "output_type": "display_data",
          "data": {
            "text/plain": [
              "<Figure size 640x480 with 1 Axes>"
            ],
            "image/png": "[encoded data removed]"
          },
          "metadata": {}
        }
      ]
    },
    {
      "cell_type": "markdown",
      "source": [
        "###[Problem 5] How many times is the second half as long as the first half?"
      ],
      "metadata": {
        "id": "-5L9iO1uMohe"
      }
    },
    {
      "cell_type": "code",
      "source": [
        "whole_chessboard = num_of_wheat(8,8)\n",
        "first_half = whole_chessboard[0:4]\n",
        "second_half = whole_chessboard[4:8]\n",
        "\n",
        "print(\"...........First half of the chess coard.........\")\n",
        "print(first_half)\n",
        "print(\"............Second half of the chess board.........\")\n",
        "print(second_half)"
      ],
      "metadata": {
        "colab": {
          "base_uri": "https://localhost:8080/"
        },
        "id": "X0OpZZ9yMrkS",
        "outputId": "9b92ef1f-6cf2-4711-fb12-ab769dc4b9fc"
      },
      "execution_count": 16,
      "outputs": [
        {
          "output_type": "stream",
          "name": "stdout",
          "text": [
            "...........First half of the chess coard.........\n",
            "[[         1          2          4          8         16         32\n",
            "          64        128]\n",
            " [       256        512       1024       2048       4096       8192\n",
            "       16384      32768]\n",
            " [     65536     131072     262144     524288    1048576    2097152\n",
            "     4194304    8388608]\n",
            " [  16777216   33554432   67108864  134217728  268435456  536870912\n",
            "  1073741824 2147483648]]\n",
            "............Second half of the chess board.........\n",
            "[[         4294967296          8589934592         17179869184\n",
            "          34359738368         68719476736        137438953472\n",
            "         274877906944        549755813888]\n",
            " [      1099511627776       2199023255552       4398046511104\n",
            "        8796093022208      17592186044416      35184372088832\n",
            "       70368744177664     140737488355328]\n",
            " [    281474976710656     562949953421312    1125899906842624\n",
            "     2251799813685248    4503599627370496    9007199254740992\n",
            "    18014398509481984   36028797018963968]\n",
            " [  72057594037927936  144115188075855872  288230376151711744\n",
            "   576460752303423488 1152921504606846976 2305843009213693952\n",
            "  4611686018427387904 9223372036854775808]]\n"
          ]
        }
      ]
    },
    {
      "cell_type": "code",
      "source": [
        "sum_firstHalf = first_half.sum()\n",
        "sum_secondHalf = second_half.sum()\n",
        "\n",
        "print(\"first half: \", sum_firstHalf, \"second half: \",sum_secondHalf)\n",
        "num_times = sum_secondHalf / sum_firstHalf\n",
        "print(\"The second half is {} times longer than the first half\".format(num_times))"
      ],
      "metadata": {
        "colab": {
          "base_uri": "https://localhost:8080/"
        },
        "id": "buE7VA4-O7mp",
        "outputId": "a510dedd-d0f7-4705-c85b-4dbca99da57d"
      },
      "execution_count": 18,
      "outputs": [
        {
          "output_type": "stream",
          "name": "stdout",
          "text": [
            "first half:  4294967295 /nsecond half:  18446744069414584320\n",
            "The second half is 4294967296.0 times longer than the first half\n"
          ]
        }
      ]
    },
    {
      "cell_type": "markdown",
      "source": [
        "###[Problem 6] Expansion to n × m mass by another calculation method\n",
        "\n",
        "####np.append method"
      ],
      "metadata": {
        "id": "JRqz6qC5RW2Y"
      }
    },
    {
      "cell_type": "code",
      "source": [
        "def num_of_wheat_append(n, m):\n",
        "    chess_square = n*m\n",
        "    chessBoardlist = np.array([1]).astype(np.uint64)\n",
        "    for seed in range (chess_square-1):\n",
        "        chessBoardlist = np.append(chessBoardlist, 2*chessBoardlist[-1])\n",
        "\n",
        "    return chessBoardlist\n",
        "print(\"Number of wheat on a 8/8 chess board is : \")\n",
        "print(num_of_wheat_append(8,8))\n",
        "\n",
        "\n"
      ],
      "metadata": {
        "colab": {
          "base_uri": "https://localhost:8080/"
        },
        "id": "GLTd75hkRh_v",
        "outputId": "a504787e-efda-4e9b-aaaf-58c4d10f5e6e"
      },
      "execution_count": 19,
      "outputs": [
        {
          "output_type": "stream",
          "name": "stdout",
          "text": [
            "Number of wheat on a 8/8 chess board is : \n",
            "[1.00000000e+00 2.00000000e+00 4.00000000e+00 8.00000000e+00\n",
            " 1.60000000e+01 3.20000000e+01 6.40000000e+01 1.28000000e+02\n",
            " 2.56000000e+02 5.12000000e+02 1.02400000e+03 2.04800000e+03\n",
            " 4.09600000e+03 8.19200000e+03 1.63840000e+04 3.27680000e+04\n",
            " 6.55360000e+04 1.31072000e+05 2.62144000e+05 5.24288000e+05\n",
            " 1.04857600e+06 2.09715200e+06 4.19430400e+06 8.38860800e+06\n",
            " 1.67772160e+07 3.35544320e+07 6.71088640e+07 1.34217728e+08\n",
            " 2.68435456e+08 5.36870912e+08 1.07374182e+09 2.14748365e+09\n",
            " 4.29496730e+09 8.58993459e+09 1.71798692e+10 3.43597384e+10\n",
            " 6.87194767e+10 1.37438953e+11 2.74877907e+11 5.49755814e+11\n",
            " 1.09951163e+12 2.19902326e+12 4.39804651e+12 8.79609302e+12\n",
            " 1.75921860e+13 3.51843721e+13 7.03687442e+13 1.40737488e+14\n",
            " 2.81474977e+14 5.62949953e+14 1.12589991e+15 2.25179981e+15\n",
            " 4.50359963e+15 9.00719925e+15 1.80143985e+16 3.60287970e+16\n",
            " 7.20575940e+16 1.44115188e+17 2.88230376e+17 5.76460752e+17\n",
            " 1.15292150e+18 2.30584301e+18 4.61168602e+18 9.22337204e+18]\n"
          ]
        }
      ]
    },
    {
      "cell_type": "markdown",
      "source": [
        "####Broadcast method"
      ],
      "metadata": {
        "id": "amX44dFCT8Xz"
      }
    },
    {
      "cell_type": "code",
      "source": [
        "num_squares = 64\n",
        "indices_of_squares = np.arange(n_squares).astype(np.uint64)\n",
        "board_broadcast = 2**indices_of_squares\n",
        "print(\"Number of weat in the last trout: {}\".format(board_broadcast))"
      ],
      "metadata": {
        "colab": {
          "base_uri": "https://localhost:8080/"
        },
        "id": "id3ZzpHzT7Sq",
        "outputId": "9c0cf894-c06b-4ff3-83bc-96db2c2834f2"
      },
      "execution_count": 21,
      "outputs": [
        {
          "output_type": "stream",
          "name": "stdout",
          "text": [
            "Number of weat in the last trout: [                  1                   2                   4\n",
            "                   8                  16                  32\n",
            "                  64                 128                 256\n",
            "                 512                1024                2048\n",
            "                4096                8192               16384\n",
            "               32768               65536              131072\n",
            "              262144              524288             1048576\n",
            "             2097152             4194304             8388608\n",
            "            16777216            33554432            67108864\n",
            "           134217728           268435456           536870912\n",
            "          1073741824          2147483648          4294967296\n",
            "          8589934592         17179869184         34359738368\n",
            "         68719476736        137438953472        274877906944\n",
            "        549755813888       1099511627776       2199023255552\n",
            "       4398046511104       8796093022208      17592186044416\n",
            "      35184372088832      70368744177664     140737488355328\n",
            "     281474976710656     562949953421312    1125899906842624\n",
            "    2251799813685248    4503599627370496    9007199254740992\n",
            "   18014398509481984   36028797018963968   72057594037927936\n",
            "  144115188075855872  288230376151711744  576460752303423488\n",
            " 1152921504606846976 2305843009213693952 4611686018427387904\n",
            " 9223372036854775808]\n"
          ]
        }
      ]
    },
    {
      "cell_type": "markdown",
      "source": [
        "###[Problem 7] Comparing calculation times"
      ],
      "metadata": {
        "id": "cPqQUPwGUotf"
      }
    },
    {
      "cell_type": "code",
      "source": [
        "%%timeit\n",
        "num_of_wheat"
      ],
      "metadata": {
        "colab": {
          "base_uri": "https://localhost:8080/"
        },
        "id": "AHexiU_oUsg_",
        "outputId": "8c054648-982c-4070-f2d4-aedd3798f4e5"
      },
      "execution_count": 22,
      "outputs": [
        {
          "output_type": "stream",
          "name": "stdout",
          "text": [
            "30.4 ns ± 0.861 ns per loop (mean ± std. dev. of 7 runs, 10000000 loops each)\n"
          ]
        }
      ]
    },
    {
      "cell_type": "code",
      "source": [
        "%%timeit\n",
        "num_of_wheat_append"
      ],
      "metadata": {
        "colab": {
          "base_uri": "https://localhost:8080/"
        },
        "id": "y4RkS30YU2V3",
        "outputId": "c3c4dbc6-cde4-4105-ae8d-4e08f0ece7ee"
      },
      "execution_count": 23,
      "outputs": [
        {
          "output_type": "stream",
          "name": "stdout",
          "text": [
            "37.9 ns ± 10.8 ns per loop (mean ± std. dev. of 7 runs, 10000000 loops each)\n"
          ]
        }
      ]
    },
    {
      "cell_type": "code",
      "source": [
        "%%timeit\n",
        "board_broadcast"
      ],
      "metadata": {
        "colab": {
          "base_uri": "https://localhost:8080/"
        },
        "id": "L0VbalWvU6gH",
        "outputId": "f907c86e-51d0-41a5-c26f-25b2aa0e4529"
      },
      "execution_count": 24,
      "outputs": [
        {
          "output_type": "stream",
          "name": "stdout",
          "text": [
            "30.6 ns ± 0.317 ns per loop (mean ± std. dev. of 7 runs, 10000000 loops each)\n"
          ]
        }
      ]
    }
  ]
}